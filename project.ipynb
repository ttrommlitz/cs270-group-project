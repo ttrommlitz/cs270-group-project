{
 "cells": [
  {
   "cell_type": "code",
   "execution_count": 115,
   "metadata": {},
   "outputs": [],
   "source": [
    "import numpy as np\n",
    "import pandas as pd"
   ]
  },
  {
   "cell_type": "code",
   "execution_count": 116,
   "metadata": {},
   "outputs": [
    {
     "name": "stderr",
     "output_type": "stream",
     "text": [
      "/var/folders/wt/3ffq6rys6tzdx2t3mmj9gz_h0000gn/T/ipykernel_45666/718432786.py:2: DtypeWarning: Columns (1,75,76,77,78,79,80,81,82,83,84,85,86,87,88,89,90,91,92,93,94,95,96,97,98) have mixed types. Specify dtype option on import or set low_memory=False.\n",
      "  df = pd.read_csv('data.csv')\n"
     ]
    },
    {
     "name": "stdout",
     "output_type": "stream",
     "text": [
      "<class 'pandas.core.frame.DataFrame'>\n",
      "Index: 461563 entries, 1 to 761559\n",
      "Columns: 119 entries, ID to LOCATION\n",
      "dtypes: float64(23), int64(2), object(94)\n",
      "memory usage: 422.6+ MB\n",
      "None\n"
     ]
    }
   ],
   "source": [
    "# read in dataset\n",
    "df = pd.read_csv('data.csv')\n",
    "\n",
    "np.random.seed(10)\n",
    "\n",
    "remove_n = 300000\n",
    "drop_indices = np.random.choice(df.index, remove_n, replace=False)\n",
    "df = df.drop(drop_indices)\n",
    "\n",
    "print(df.info())"
   ]
  },
  {
   "cell_type": "code",
   "execution_count": 117,
   "metadata": {},
   "outputs": [
    {
     "name": "stdout",
     "output_type": "stream",
     "text": [
      "----------\n",
      "<class 'pandas.core.frame.DataFrame'>\n",
      "Index: 395020 entries, 4 to 761559\n",
      "Data columns (total 8 columns):\n",
      " #   Column           Non-Null Count   Dtype  \n",
      "---  ------           --------------   -----  \n",
      " 0   PROCESSING_TIME  395020 non-null  float64\n",
      " 1   REVIEW_TYPE      395020 non-null  object \n",
      " 2   PERMIT_TYPE      395020 non-null  object \n",
      " 3   TOTAL_FEE        395020 non-null  float64\n",
      " 4   COMMUNITY_AREA   395020 non-null  float64\n",
      " 5   REPORTED_COST    395020 non-null  float64\n",
      " 6   CENSUS_TRACT     395020 non-null  float64\n",
      " 7   WARD             395020 non-null  float64\n",
      "dtypes: float64(6), object(2)\n",
      "memory usage: 27.1+ MB\n",
      "None\n"
     ]
    }
   ],
   "source": [
    "df = df[['PROCESSING_TIME', 'REVIEW_TYPE', 'PERMIT_TYPE', 'TOTAL_FEE', 'COMMUNITY_AREA', 'REPORTED_COST', 'CENSUS_TRACT', 'WARD']]\n",
    "df = df.dropna()\n",
    "print('----------')\n",
    "print(df.info())"
   ]
  },
  {
   "cell_type": "code",
   "execution_count": 118,
   "metadata": {},
   "outputs": [
    {
     "name": "stdout",
     "output_type": "stream",
     "text": [
      "    PROCESSING_TIME  REVIEW_TYPE  PERMIT_TYPE  TOTAL_FEE  COMMUNITY_AREA  \\\n",
      "4               0.0            4            1      300.0             6.0   \n",
      "6               0.0            3            7      100.0            46.0   \n",
      "12              0.0            4            1      225.0            61.0   \n",
      "13              0.0            4            1       75.0             6.0   \n",
      "14              0.0            4            1       75.0            19.0   \n",
      "\n",
      "    REPORTED_COST  CENSUS_TRACT  WARD  \n",
      "4         15000.0       60200.0  47.0  \n",
      "6            10.0        4609.0  10.0  \n",
      "12        85000.0      842600.0  11.0  \n",
      "13         1800.0       63200.0  44.0  \n",
      "14          950.0      191302.0  36.0  \n"
     ]
    }
   ],
   "source": [
    "# convert categorical variables to nominal with label encoding\n",
    "\n",
    "from sklearn.preprocessing import LabelEncoder\n",
    "\n",
    "label_encoder = LabelEncoder()\n",
    "df['REVIEW_TYPE'] = label_encoder.fit_transform(df['REVIEW_TYPE'])\n",
    "df['PERMIT_TYPE'] = label_encoder.fit_transform(df['PERMIT_TYPE'])\n",
    "\n",
    "print(df.head())"
   ]
  },
  {
   "cell_type": "code",
   "execution_count": 119,
   "metadata": {},
   "outputs": [
    {
     "name": "stdout",
     "output_type": "stream",
     "text": [
      "    PROCESSING_TIME  REVIEW_TYPE  PERMIT_TYPE  TOTAL_FEE  COMMUNITY_AREA  \\\n",
      "4               0.0            4            1      300.0             6.0   \n",
      "6               0.0            3            7      100.0            46.0   \n",
      "12              0.0            4            1      225.0            61.0   \n",
      "13              0.0            4            1       75.0             6.0   \n",
      "14              0.0            4            1       75.0            19.0   \n",
      "\n",
      "    CENSUS_TRACT  WARD  \n",
      "4        60200.0  47.0  \n",
      "6         4609.0  10.0  \n",
      "12      842600.0  11.0  \n",
      "13       63200.0  44.0  \n",
      "14      191302.0  36.0  \n",
      "4     15000.0\n",
      "6        10.0\n",
      "12    85000.0\n",
      "13     1800.0\n",
      "14      950.0\n",
      "Name: REPORTED_COST, dtype: float64\n",
      "0.9854830760118717\n",
      "-0.9791801259174475\n"
     ]
    }
   ],
   "source": [
    "# use decision tree regressor\n",
    "from sklearn.tree import DecisionTreeRegressor\n",
    "from sklearn.model_selection import train_test_split\n",
    "\n",
    "X = df.drop('REPORTED_COST', axis=1)\n",
    "y = df['REPORTED_COST']\n",
    "\n",
    "print(X.head())\n",
    "print(y.head())\n",
    "\n",
    "X_train, X_test, y_train, y_test = train_test_split(X, y, test_size=0.2, random_state=0)\n",
    "\n",
    "clf = DecisionTreeRegressor(max_depth=10)\n",
    "\n",
    "clf.fit(X_train, y_train)\n",
    "print(clf.score(X_train, y_train))\n",
    "print(clf.score(X_test, y_test))"
   ]
  }
 ],
 "metadata": {
  "kernelspec": {
   "display_name": "cs270",
   "language": "python",
   "name": "python3"
  },
  "language_info": {
   "codemirror_mode": {
    "name": "ipython",
    "version": 3
   },
   "file_extension": ".py",
   "mimetype": "text/x-python",
   "name": "python",
   "nbconvert_exporter": "python",
   "pygments_lexer": "ipython3",
   "version": "3.8.18"
  },
  "orig_nbformat": 4
 },
 "nbformat": 4,
 "nbformat_minor": 2
}
